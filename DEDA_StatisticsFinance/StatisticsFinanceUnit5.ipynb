{
 "cells": [
  {
   "cell_type": "markdown",
   "metadata": {
    "id": "-rH9KdVerKXg"
   },
   "source": [
    "# **DEDA Unit 5** : Basic Statistics and Visualisation in Python"
   ]
  },
  {
   "cell_type": "markdown",
   "metadata": {
    "id": "PUIbv9Hxrm99"
   },
   "source": [
    "### **Interactive Graphs** \n"
   ]
  },
  {
   "cell_type": "markdown",
   "metadata": {
    "id": "42JRU6JyQc3U"
   },
   "source": [
    "### **Sliding Candlesticks** "
   ]
  },
  {
   "cell_type": "code",
   "execution_count": null,
   "metadata": {
    "colab": {
     "base_uri": "https://localhost:8080/",
     "height": 558
    },
    "id": "CYrse-uIrx3y",
    "outputId": "8e176791-7562-4295-a61f-b0db34644392"
   },
   "outputs": [
    {
     "data": {
      "application/vnd.plotly.v1+json": {
       "config": {
        "plotlyServerURL": "https://plot.ly"
       },
       "data": [
        {
         "close": {
          "bdata": "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",
          "dtype": "f8"
         },
         "high": {
          "bdata": "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",
          "dtype": "f8"
         },
         "low": {
          "bdata": "AAAAYLzY60AAAACARHzrQAAAAABGX+lAAAAAgKZw6UAAAADAiOjpQAAAAEBFhulAAAAAQF/x6UAAAADABkvpQAAAAKCBPOlAAAAAgB5h6UAAAAAA8proQAAAAADfeuhAAAAAIOQq50AAAABgLannQAAAAABzn+dAAAAAgL0T6EAAAADgzPToQAAAAKCPp+hAAAAA4K1s6UAAAADgamTpQAAAAGALOepAAAAAABXa6UAAAACAcj3pQAAAAKA4TOlAAAAAILUC6kAAAAAAkCzrQAAAAKB3SetAAAAAIAlv60AAAADAbFDrQAAAACD3Z+tAAAAA4EGU60AAAADgo5zrQAAAAOA7eutAAAAA4CtZ7EAAAADgOJzsQAAAACBTm+xAAAAAINeQ60AAAADgmI7qQAAAAKDVhOpAAAAAAH986kAAAADAdMDqQAAAAGCgbutAAAAA4AJ+60AAAACgnqTrQAAAAOC/hutAAAAA4F/r6kAAAADALFXqQAAAACBj0upAAAAAILfc60AAAADAQK3rQAAAAEBX6utAAAAAoAYG7UAAAADg/PHtQAAAAADbF+5AAAAAwJZI7kAAAAAgtYzuQAAAAADDlu5AAAAAQO8d7kAAAAAg7Q3uQAAAACCsjO1AAAAAANMX7kAAAACgHZ/tQAAAAKAxAO5AAAAAYIM47kAAAACAKpTuQAAAAOBVee9AAAAA4NMY8EAAAAAg7jjvQAAAAGDH3u5AAAAAQDIC70AAAACAP2nuQAAAAMCs/O1AAAAAAEFK7kAAAACAjvnuQAAAAAA97fBAAAAAIMkg8UAAAADgZULxQAAAACCPcPFAAAAAYMZL8kAAAABAvZHzQAAAAIAm2PNAAAAA4MQX9EAAAAAgjy30QAAAAAAf3PRAAAAAgAST9EAAAABg6qb0QAAAAAAN1/RAAAAAgFgb9UAAAACgOMn1QAAAAMBr0PZAAAAA4DnJ9kAAAABgjHL2QAAAAIBOjPVAAAAAALQo9UAAAABgUVv1QAAAAMDY8fVAAAAAgFMN9kAAAABgqzD2QAAAAMCRGvZAAAAAoKL+9UAAAAAgs7f1QAAAACCQ9vVAAAAAQF829UAAAACgjUP2QAAAAMCL3PZAAAAAgAvQ9kAAAABAcNP1QAAAAOBY5fVAAAAAAHAw9kAAAABAhyb3QAAAAAB2JfdAAAAAAPxk90AAAAAARoj3QAAAAMAqCPhAAAAAQOF++EAAAAAA35j3QAAAAKCLgvZAAAAAgOOl9UAAAABAwJL2QAAAAEAYDPZAAAAAYEmu9UAAAABgo+31QAAAAIDF2/ZAAAAAIMVU9kAAAABAad71QAAAAIAUBPZAAAAAIDy89UAAAABAQHD1QAAAAOD7jfVAAAAAACjj9UAAAABg/Dj2QAAAAMBrz/ZAAAAAgPoZ90AAAADgCgn3QAAAAKAGMPdAAAAAgMut9kAAAAAAzOz1QAAAAKBSnvVAAAAAQEP29UAAAAAgU1b2QAAAACCsT/ZAAAAAID5X9UAAAADAtnj2QAAAAECn3/ZAAAAAwMUh90AAAACAsbD3QAAAAKCQOfhAAAAAQDiq90AAAADAIp33QAAAAGBDj/dAAAAAQCs4+EAAAABA9rn3QAAAAAATCPhAAAAAQJQz+EAAAABAb+j3QAAAAKBo0vZAAAAAgDJ290AAAAAg0Lb3QAAAAIAUMfhAAAAAoPrp90AAAADAB6H3QAAAAMDh6/ZAAAAAAGvI9UAAAABgGqL2QAAAAGAuk/ZAAAAAoCWA9kAAAABgCJv2QAAAAMByn/ZAAAAA4Ml+9kAAAACgAJf2QAAAAECMWvZAAAAAgGRB9kAAAAAgRU72QAAAAOAFZvZAAAAAQAqe9kAAAABg1Fv2QAAAAEA5LvZAAAAAwGDW9UAAAABA8TP2QAAAAOAUlvZAAAAAgC8j9kAAAAAgqFf2QAAAAKAWPfZAAAAAoNxS9UAAAACAO/nzQAAAAOBvIPNAAAAAQCqE80AAAACApF7yQAAAAOA+tvNAAAAA4OYC9EAAAADAPs7zQAAAAEAv8vJAAAAAQFvc80AAAABgnN/zQAAAAMD1K/NAAAAAINI180AAAABgowLyQAAAAGBzd/FAAAAAIMA/8UAAAAAguwjyQAAAAKCs9vFAAAAAwCEr8kAAAADAV8TyQAAAAOAsZvJAAAAAoKZ28kAAAAAgcSnyQAAAAODSbvJAAAAA4D7S8kAAAADAgL7yQAAAAIAeyfJAAAAAQLrQ8kAAAABAXkrzQAAAAABkg/NAAAAAwO9/80AAAABAhGzzQAAAAEAT2vJAAAAA4GZT8kAAAAAgcW3yQAAAAKC9T/JAAAAAwEOY8kAAAACAJIryQAAAAKDd3fFAAAAAQHIM8kAAAACgxlnyQAAAAACCH/FAAAAAgH1+8EAAAACgmPPwQAAAAKA/f/BAAAAAgEEf8UAAAADALgnxQAAAAEBAzfFAAAAAIOXn8UAAAABATQPyQAAAACAsEfJAAAAAoDTt8UAAAAAgPvrxQAAAAIDcGPJAAAAAQNwb8kAAAACgKQfyQAAAAKB6I/JAAAAA4KeC8kAAAAAAhbvzQAAAAMCjrfNAAAAAoKL780AAAACA+Rz0QAAAAAC4HvRAAAAAoD3280AAAAAg7Rr0QAAAAOC69/NAAAAAgGpN9EAAAABgdcb0QAAAACAMs/RAAAAAADFP9EAAAADAjSX0QAAAACCKFfRAAAAAoPWr9EAAAABgxej0QAAAAOC1Q/ZAAAAAAI5Q9kAAAAAAPG72QAAAAEDwNfZAAAAAgKJQ9kAAAACAr2D2QAAAAGCWJ/ZAAAAAwHV59kAAAADgNnT2QAAAAIBIj/ZAAAAAgO889kAAAADA2KD2QAAAAIDr3vZAAAAAQJeL90AAAAAgFvH2QAAAAOAN9PZAAAAAoGfo9kAAAAAAE033QAAAAADiCPdAAAAAwO0X90AAAAAgEpz2QAAAAADBTvZAAAAAwHow9kAAAACAh1b2QAAAACDoK/ZAAAAAYONy9kAAAACgo0n2QAAAAOAgbfVAAAAAQKKQ9UAAAAAgE0b2QAAAAKB1gPZAAAAAoFWL9kAAAABgaCz3QAAAAMAE9fZAAAAAQAJJ9kAAAACAZ7v1QAAAAOB5EPZAAAAAgBQY9kAAAADAKDb2QAAAAGAd8vVAAAAAYLwK9kAAAABAIyX2QAAAACCeqfVAAAAAgDZj9UAAAADAPO30QAAAAIChHPVAAAAAgK8P9kAAAADAoT72QAAAAIBZPvZAAAAAYLss9kAAAACAlkP2QAAAAKALVvZAAAAAwPMt9kAAAADAC8z1QAAAAADMvfVAAAAAAC949kAAAAAgJT72QAAAAKAdXPZAAAAAIJRa9kAAAACg02/2QAAAAEAzWfZAAAAAIMKZ9kAAAADgsBf3QAAAAOA6GPhAAAAAgJ1u+EAAAABgCX74QAAAAICt1fhAAAAAoE9T+EAAAACAWJ74QAAAAECWxvhAAAAAYEqN+EAAAACgQqX4QAAAACAEePhAAAAA4AZ5+EAAAADAS0f4QAAAAMD1dPhAAAAAYMBX+EAAAAAA5lr4QAAAAED/fvhAAAAA4Mu7+EAAAABAL734QAAAAAAqwfhAAAAAYHmy+EAAAACA57z3QAAAAIAAmPdAAAAAIKmU90AAAABgdhP4QAAAAOBazvdAAAAAwG7k90AAAABAM+f3QAAAAAD5RPhAAAAA4F9k+EAAAADgX2T4QAAAAAB5afhAAAAAoJHV+EAAAAAA89v4QAAAAED22fhAAAAAYBJg+EAAAADg8HX4QAAAAGBYdvhAAAAAgBL790AAAAAgZ6P3QAAAAKBKivdAAAAAYCqP90AAAABA0Xv3QAAAAACZ2fdAAAAAoPgn90AAAAAAK/n2QA==",
          "dtype": "f8"
         },
         "open": {
          "bdata": "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",
          "dtype": "f8"
         },
         "type": "candlestick",
         "x": {
          "bdata": "AAABAAIAAwAEAAUABgAHAAgACQAKAAsADAANAA4ADwAQABEAEgATABQAFQAWABcAGAAZABoAGwAcAB0AHgAfACAAIQAiACMAJAAlACYAJwAoACkAKgArACwALQAuAC8AMAAxADIAMwA0ADUANgA3ADgAOQA6ADsAPAA9AD4APwBAAEEAQgBDAEQARQBGAEcASABJAEoASwBMAE0ATgBPAFAAUQBSAFMAVABVAFYAVwBYAFkAWgBbAFwAXQBeAF8AYABhAGIAYwBkAGUAZgBnAGgAaQBqAGsAbABtAG4AbwBwAHEAcgBzAHQAdQB2AHcAeAB5AHoAewB8AH0AfgB/AIAAgQCCAIMAhACFAIYAhwCIAIkAigCLAIwAjQCOAI8AkACRAJIAkwCUAJUAlgCXAJgAmQCaAJsAnACdAJ4AnwCgAKEAogCjAKQApQCmAKcAqACpAKoAqwCsAK0ArgCvALAAsQCyALMAtAC1ALYAtwC4ALkAugC7ALwAvQC+AL8AwADBAMIAwwDEAMUAxgDHAMgAyQDKAMsAzADNAM4AzwDQANEA0gDTANQA1QDWANcA2ADZANoA2wDcAN0A3gDfAOAA4QDiAOMA5ADlAOYA5wDoAOkA6gDrAOwA7QDuAO8A8ADxAPIA8wD0APUA9gD3APgA+QD6APsA/AD9AP4A/wAAAQEBAgEDAQQBBQEGAQcBCAEJAQoBCwEMAQ0BDgEPARABEQESARMBFAEVARYBFwEYARkBGgEbARwBHQEeAR8BIAEhASIBIwEkASUBJgEnASgBKQEqASsBLAEtAS4BLwEwATEBMgEzATQBNQE2ATcBOAE5AToBOwE8AT0BPgE/AUABQQFCAUMBRAFFAUYBRwFIAUkBSgFLAUwBTQFOAU8BUAFRAVIBUwFUAVUBVgFXAVgBWQFaAVsBXAFdAV4BXwFgAWEBYgFjAWQBZQFmAWcBaAFpAWoBawFsAQ==",
          "dtype": "i2"
         }
        }
       ],
       "layout": {
        "template": {
         "data": {
          "bar": [
           {
            "error_x": {
             "color": "#2a3f5f"
            },
            "error_y": {
             "color": "#2a3f5f"
            },
            "marker": {
             "line": {
              "color": "#E5ECF6",
              "width": 0.5
             },
             "pattern": {
              "fillmode": "overlay",
              "size": 10,
              "solidity": 0.2
             }
            },
            "type": "bar"
           }
          ],
          "barpolar": [
           {
            "marker": {
             "line": {
              "color": "#E5ECF6",
              "width": 0.5
             },
             "pattern": {
              "fillmode": "overlay",
              "size": 10,
              "solidity": 0.2
             }
            },
            "type": "barpolar"
           }
          ],
          "carpet": [
           {
            "aaxis": {
             "endlinecolor": "#2a3f5f",
             "gridcolor": "white",
             "linecolor": "white",
             "minorgridcolor": "white",
             "startlinecolor": "#2a3f5f"
            },
            "baxis": {
             "endlinecolor": "#2a3f5f",
             "gridcolor": "white",
             "linecolor": "white",
             "minorgridcolor": "white",
             "startlinecolor": "#2a3f5f"
            },
            "type": "carpet"
           }
          ],
          "choropleth": [
           {
            "colorbar": {
             "outlinewidth": 0,
             "ticks": ""
            },
            "type": "choropleth"
           }
          ],
          "contour": [
           {
            "colorbar": {
             "outlinewidth": 0,
             "ticks": ""
            },
            "colorscale": [
             [
              0,
              "#0d0887"
             ],
             [
              0.1111111111111111,
              "#46039f"
             ],
             [
              0.2222222222222222,
              "#7201a8"
             ],
             [
              0.3333333333333333,
              "#9c179e"
             ],
             [
              0.4444444444444444,
              "#bd3786"
             ],
             [
              0.5555555555555556,
              "#d8576b"
             ],
             [
              0.6666666666666666,
              "#ed7953"
             ],
             [
              0.7777777777777778,
              "#fb9f3a"
             ],
             [
              0.8888888888888888,
              "#fdca26"
             ],
             [
              1,
              "#f0f921"
             ]
            ],
            "type": "contour"
           }
          ],
          "contourcarpet": [
           {
            "colorbar": {
             "outlinewidth": 0,
             "ticks": ""
            },
            "type": "contourcarpet"
           }
          ],
          "heatmap": [
           {
            "colorbar": {
             "outlinewidth": 0,
             "ticks": ""
            },
            "colorscale": [
             [
              0,
              "#0d0887"
             ],
             [
              0.1111111111111111,
              "#46039f"
             ],
             [
              0.2222222222222222,
              "#7201a8"
             ],
             [
              0.3333333333333333,
              "#9c179e"
             ],
             [
              0.4444444444444444,
              "#bd3786"
             ],
             [
              0.5555555555555556,
              "#d8576b"
             ],
             [
              0.6666666666666666,
              "#ed7953"
             ],
             [
              0.7777777777777778,
              "#fb9f3a"
             ],
             [
              0.8888888888888888,
              "#fdca26"
             ],
             [
              1,
              "#f0f921"
             ]
            ],
            "type": "heatmap"
           }
          ],
          "histogram": [
           {
            "marker": {
             "pattern": {
              "fillmode": "overlay",
              "size": 10,
              "solidity": 0.2
             }
            },
            "type": "histogram"
           }
          ],
          "histogram2d": [
           {
            "colorbar": {
             "outlinewidth": 0,
             "ticks": ""
            },
            "colorscale": [
             [
              0,
              "#0d0887"
             ],
             [
              0.1111111111111111,
              "#46039f"
             ],
             [
              0.2222222222222222,
              "#7201a8"
             ],
             [
              0.3333333333333333,
              "#9c179e"
             ],
             [
              0.4444444444444444,
              "#bd3786"
             ],
             [
              0.5555555555555556,
              "#d8576b"
             ],
             [
              0.6666666666666666,
              "#ed7953"
             ],
             [
              0.7777777777777778,
              "#fb9f3a"
             ],
             [
              0.8888888888888888,
              "#fdca26"
             ],
             [
              1,
              "#f0f921"
             ]
            ],
            "type": "histogram2d"
           }
          ],
          "histogram2dcontour": [
           {
            "colorbar": {
             "outlinewidth": 0,
             "ticks": ""
            },
            "colorscale": [
             [
              0,
              "#0d0887"
             ],
             [
              0.1111111111111111,
              "#46039f"
             ],
             [
              0.2222222222222222,
              "#7201a8"
             ],
             [
              0.3333333333333333,
              "#9c179e"
             ],
             [
              0.4444444444444444,
              "#bd3786"
             ],
             [
              0.5555555555555556,
              "#d8576b"
             ],
             [
              0.6666666666666666,
              "#ed7953"
             ],
             [
              0.7777777777777778,
              "#fb9f3a"
             ],
             [
              0.8888888888888888,
              "#fdca26"
             ],
             [
              1,
              "#f0f921"
             ]
            ],
            "type": "histogram2dcontour"
           }
          ],
          "mesh3d": [
           {
            "colorbar": {
             "outlinewidth": 0,
             "ticks": ""
            },
            "type": "mesh3d"
           }
          ],
          "parcoords": [
           {
            "line": {
             "colorbar": {
              "outlinewidth": 0,
              "ticks": ""
             }
            },
            "type": "parcoords"
           }
          ],
          "pie": [
           {
            "automargin": true,
            "type": "pie"
           }
          ],
          "scatter": [
           {
            "fillpattern": {
             "fillmode": "overlay",
             "size": 10,
             "solidity": 0.2
            },
            "type": "scatter"
           }
          ],
          "scatter3d": [
           {
            "line": {
             "colorbar": {
              "outlinewidth": 0,
              "ticks": ""
             }
            },
            "marker": {
             "colorbar": {
              "outlinewidth": 0,
              "ticks": ""
             }
            },
            "type": "scatter3d"
           }
          ],
          "scattercarpet": [
           {
            "marker": {
             "colorbar": {
              "outlinewidth": 0,
              "ticks": ""
             }
            },
            "type": "scattercarpet"
           }
          ],
          "scattergeo": [
           {
            "marker": {
             "colorbar": {
              "outlinewidth": 0,
              "ticks": ""
             }
            },
            "type": "scattergeo"
           }
          ],
          "scattergl": [
           {
            "marker": {
             "colorbar": {
              "outlinewidth": 0,
              "ticks": ""
             }
            },
            "type": "scattergl"
           }
          ],
          "scattermap": [
           {
            "marker": {
             "colorbar": {
              "outlinewidth": 0,
              "ticks": ""
             }
            },
            "type": "scattermap"
           }
          ],
          "scattermapbox": [
           {
            "marker": {
             "colorbar": {
              "outlinewidth": 0,
              "ticks": ""
             }
            },
            "type": "scattermapbox"
           }
          ],
          "scatterpolar": [
           {
            "marker": {
             "colorbar": {
              "outlinewidth": 0,
              "ticks": ""
             }
            },
            "type": "scatterpolar"
           }
          ],
          "scatterpolargl": [
           {
            "marker": {
             "colorbar": {
              "outlinewidth": 0,
              "ticks": ""
             }
            },
            "type": "scatterpolargl"
           }
          ],
          "scatterternary": [
           {
            "marker": {
             "colorbar": {
              "outlinewidth": 0,
              "ticks": ""
             }
            },
            "type": "scatterternary"
           }
          ],
          "surface": [
           {
            "colorbar": {
             "outlinewidth": 0,
             "ticks": ""
            },
            "colorscale": [
             [
              0,
              "#0d0887"
             ],
             [
              0.1111111111111111,
              "#46039f"
             ],
             [
              0.2222222222222222,
              "#7201a8"
             ],
             [
              0.3333333333333333,
              "#9c179e"
             ],
             [
              0.4444444444444444,
              "#bd3786"
             ],
             [
              0.5555555555555556,
              "#d8576b"
             ],
             [
              0.6666666666666666,
              "#ed7953"
             ],
             [
              0.7777777777777778,
              "#fb9f3a"
             ],
             [
              0.8888888888888888,
              "#fdca26"
             ],
             [
              1,
              "#f0f921"
             ]
            ],
            "type": "surface"
           }
          ],
          "table": [
           {
            "cells": {
             "fill": {
              "color": "#EBF0F8"
             },
             "line": {
              "color": "white"
             }
            },
            "header": {
             "fill": {
              "color": "#C8D4E3"
             },
             "line": {
              "color": "white"
             }
            },
            "type": "table"
           }
          ]
         },
         "layout": {
          "annotationdefaults": {
           "arrowcolor": "#2a3f5f",
           "arrowhead": 0,
           "arrowwidth": 1
          },
          "autotypenumbers": "strict",
          "coloraxis": {
           "colorbar": {
            "outlinewidth": 0,
            "ticks": ""
           }
          },
          "colorscale": {
           "diverging": [
            [
             0,
             "#8e0152"
            ],
            [
             0.1,
             "#c51b7d"
            ],
            [
             0.2,
             "#de77ae"
            ],
            [
             0.3,
             "#f1b6da"
            ],
            [
             0.4,
             "#fde0ef"
            ],
            [
             0.5,
             "#f7f7f7"
            ],
            [
             0.6,
             "#e6f5d0"
            ],
            [
             0.7,
             "#b8e186"
            ],
            [
             0.8,
             "#7fbc41"
            ],
            [
             0.9,
             "#4d9221"
            ],
            [
             1,
             "#276419"
            ]
           ],
           "sequential": [
            [
             0,
             "#0d0887"
            ],
            [
             0.1111111111111111,
             "#46039f"
            ],
            [
             0.2222222222222222,
             "#7201a8"
            ],
            [
             0.3333333333333333,
             "#9c179e"
            ],
            [
             0.4444444444444444,
             "#bd3786"
            ],
            [
             0.5555555555555556,
             "#d8576b"
            ],
            [
             0.6666666666666666,
             "#ed7953"
            ],
            [
             0.7777777777777778,
             "#fb9f3a"
            ],
            [
             0.8888888888888888,
             "#fdca26"
            ],
            [
             1,
             "#f0f921"
            ]
           ],
           "sequentialminus": [
            [
             0,
             "#0d0887"
            ],
            [
             0.1111111111111111,
             "#46039f"
            ],
            [
             0.2222222222222222,
             "#7201a8"
            ],
            [
             0.3333333333333333,
             "#9c179e"
            ],
            [
             0.4444444444444444,
             "#bd3786"
            ],
            [
             0.5555555555555556,
             "#d8576b"
            ],
            [
             0.6666666666666666,
             "#ed7953"
            ],
            [
             0.7777777777777778,
             "#fb9f3a"
            ],
            [
             0.8888888888888888,
             "#fdca26"
            ],
            [
             1,
             "#f0f921"
            ]
           ]
          },
          "colorway": [
           "#636efa",
           "#EF553B",
           "#00cc96",
           "#ab63fa",
           "#FFA15A",
           "#19d3f3",
           "#FF6692",
           "#B6E880",
           "#FF97FF",
           "#FECB52"
          ],
          "font": {
           "color": "#2a3f5f"
          },
          "geo": {
           "bgcolor": "white",
           "lakecolor": "white",
           "landcolor": "#E5ECF6",
           "showlakes": true,
           "showland": true,
           "subunitcolor": "white"
          },
          "hoverlabel": {
           "align": "left"
          },
          "hovermode": "closest",
          "mapbox": {
           "style": "light"
          },
          "paper_bgcolor": "white",
          "plot_bgcolor": "#E5ECF6",
          "polar": {
           "angularaxis": {
            "gridcolor": "white",
            "linecolor": "white",
            "ticks": ""
           },
           "bgcolor": "#E5ECF6",
           "radialaxis": {
            "gridcolor": "white",
            "linecolor": "white",
            "ticks": ""
           }
          },
          "scene": {
           "xaxis": {
            "backgroundcolor": "#E5ECF6",
            "gridcolor": "white",
            "gridwidth": 2,
            "linecolor": "white",
            "showbackground": true,
            "ticks": "",
            "zerolinecolor": "white"
           },
           "yaxis": {
            "backgroundcolor": "#E5ECF6",
            "gridcolor": "white",
            "gridwidth": 2,
            "linecolor": "white",
            "showbackground": true,
            "ticks": "",
            "zerolinecolor": "white"
           },
           "zaxis": {
            "backgroundcolor": "#E5ECF6",
            "gridcolor": "white",
            "gridwidth": 2,
            "linecolor": "white",
            "showbackground": true,
            "ticks": "",
            "zerolinecolor": "white"
           }
          },
          "shapedefaults": {
           "line": {
            "color": "#2a3f5f"
           }
          },
          "ternary": {
           "aaxis": {
            "gridcolor": "white",
            "linecolor": "white",
            "ticks": ""
           },
           "baxis": {
            "gridcolor": "white",
            "linecolor": "white",
            "ticks": ""
           },
           "bgcolor": "#E5ECF6",
           "caxis": {
            "gridcolor": "white",
            "linecolor": "white",
            "ticks": ""
           }
          },
          "title": {
           "x": 0.05
          },
          "xaxis": {
           "automargin": true,
           "gridcolor": "white",
           "linecolor": "white",
           "ticks": "",
           "title": {
            "standoff": 15
           },
           "zerolinecolor": "white",
           "zerolinewidth": 2
          },
          "yaxis": {
           "automargin": true,
           "gridcolor": "white",
           "linecolor": "white",
           "ticks": "",
           "title": {
            "standoff": 15
           },
           "zerolinecolor": "white",
           "zerolinewidth": 2
          }
         }
        },
        "yaxis": {
         "tickprefix": "EUR"
        }
       }
      }
     },
     "metadata": {},
     "output_type": "display_data"
    }
   ],
   "source": [
    "#to install modules or packages use !pip install \"x\" or %pip install \"x\" or pip install \"x\" in terminal\n",
    "from datetime import datetime, timedelta\n",
    "import pandas as pd\n",
    "import numpy as np\n",
    "import plotly.graph_objects as go\n",
    "import plotly.offline as py\n",
    "import os\n",
    "\n",
    "CURRENCY = 'EUR'\n",
    "\n",
    "file_name = 'BTC_DEDA_5.csv'\n",
    "\n",
    "btc_data = pd.read_csv(file_name, sep=';')\n",
    "\n",
    "# Flatten multi-index columns if present (though CSV shouldn't have multi-index)\n",
    "if isinstance(btc_data.columns, pd.MultiIndex):\n",
    "    btc_data.columns = btc_data.columns.get_level_values(0)\n",
    "\n",
    "# Create candlestick chart\n",
    "fig = go.Figure(data=[\n",
    "    go.Candlestick(\n",
    "        x=btc_data.index,\n",
    "        close=btc_data['Close'],\n",
    "        high=btc_data['High'],\n",
    "        low=btc_data['Low'],\n",
    "        open=btc_data['Open']\n",
    "    )\n",
    "])\n",
    "\n",
    "fig.update_yaxes(tickprefix=CURRENCY)\n",
    "fig.show()"
   ]
  },
  {
   "cell_type": "code",
   "execution_count": null,
   "metadata": {
    "colab": {
     "base_uri": "https://localhost:8080/"
    },
    "id": "my6E7a7BQS4t",
    "outputId": "ee48ccac-d272-47e1-a361-797d22e29c2f"
   },
   "outputs": [],
   "source": [
    "\"\"\"\n",
    "NumPy allows for many matrix operations.The inalg.inv() computes the (multiplicative) inverse of a matrix. The dot() method returns the dot product of two arrays. Identity() returns the identity array and eye() returns a  two-dimensional  array with ones on the diagonal and zeros elsewhere.\n",
    "\"\"\"\n",
    "# Note: A here is the random matrix from above\n",
    "\n",
    "# Giving the seed of random number generator\n",
    "np.random.seed(1)\n",
    "# Generate a 20*20 matrix with uniformly distributed random integers between 0 to 50\n",
    "A = np.random.randint(low=0, high=50, size=(20, 20))\n",
    "print(A)\n",
    "\n",
    "A_inv = np.linalg.inv(A) # Inverse matrix\n",
    "print(A_inv)\n",
    "\n",
    "dot_result = np.dot(A, A_inv) # Matrix multiplication operation\n",
    "print(dot_result)\n",
    "\n",
    "idn_matrix = np.identity(20) # Generate a 20*20 identity matrix\n",
    "print(idn_matrix)\n",
    "\n",
    "# Using .allclose() function to evaluate two matrices are equal within tolerance\n",
    "np.allclose(dot_result, np.eye(20))  # True"
   ]
  },
  {
   "cell_type": "markdown",
   "metadata": {
    "id": "gqsA65R7QyFQ"
   },
   "source": [
    "### **Eigenvalues** "
   ]
  },
  {
   "cell_type": "code",
   "execution_count": 6,
   "metadata": {
    "colab": {
     "base_uri": "https://localhost:8080/"
    },
    "id": "FjvP7UFhQvuX",
    "outputId": "4581e1b5-18fe-4883-a49c-1a528924adf9"
   },
   "outputs": [
    {
     "name": "stdout",
     "output_type": "stream",
     "text": [
      "True\n"
     ]
    }
   ],
   "source": [
    "\"\"\"\n",
    "The transpose() function from Numpy can be used to calculate the transpose of a matrix. The linalg.eig() method computes the eigenvalues of a squared array while diag() extracts a diagonal or construct a diagonal array.\n",
    "\"\"\"\n",
    "A = [[3, 1],[1, 1]] # [[3, 1],[1, 1]] would create a 2x2 matrix\n",
    "\n",
    "A_eig = np.linalg.eig(A)\n",
    "# Now the Jordan decomposition A = Gamma*Lambda*Gamma^T\n",
    "E_val = A_eig[0]\n",
    "Gamma = A_eig[1]\n",
    "Lambda = np.diag(E_val)\n",
    "\n",
    "# Check the result, you might get something within numerical eps\n",
    "AA = np.dot( np.dot(Gamma, Lambda), np.transpose(Gamma) )\n",
    "print( np.allclose(AA, A) )  # True\n",
    "\n",
    "# Calculation of the square root of A\n",
    "Lambda12 = np.sqrt(Lambda)\n",
    "A12 = np.dot( np.dot(Gamma, Lambda12), np.transpose(Gamma) )"
   ]
  },
  {
   "cell_type": "markdown",
   "metadata": {
    "id": "-YBdII0ORIkC"
   },
   "source": [
    "### **Fourier Transformation** "
   ]
  },
  {
   "cell_type": "code",
   "execution_count": 8,
   "metadata": {
    "id": "M1yHhByHRRjY"
   },
   "outputs": [
    {
     "name": "stderr",
     "output_type": "stream",
     "text": [
      "<ipython-input-8-2354d2ad0c83>:8: DeprecationWarning:\n",
      "\n",
      "The binary mode of fromstring is deprecated, as it behaves surprisingly on unicode inputs. Use frombuffer instead\n",
      "\n"
     ]
    }
   ],
   "source": [
    "from PIL import Image\n",
    "from numpy.fft import fft,ifft\n",
    "import numpy as np\n",
    "\n",
    "# Open the image by using Python Imaging Library(PIL)\n",
    "image_before=Image.open('berlin_view.jpg')\n",
    "# Decoding and encoding image to float number\n",
    "image_int=np.fromstring(image_before.tobytes(), dtype=np.int8)\n",
    "# Processing Fourier transform\n",
    "fft_transformed=fft(image_int)\n",
    "# Filter the lower frequency, i.e. employ a high pass\n",
    "fft_transformed=np.where(np.absolute(fft_transformed) < 9e4,0,fft_transformed)\n",
    "# Inverse Fourier transform\n",
    "fft_transformed=ifft(fft_transformed)\n",
    "# Keep the real part\n",
    "fft_transformed=np.int8(np.real(fft_transformed))\n",
    "# Output the image\n",
    "image_output=Image.frombytes(image_before.mode, image_before.size, fft_transformed)\n",
    "image_output.show()"
   ]
  },
  {
   "cell_type": "markdown",
   "metadata": {
    "id": "3nNlbXq3RSlS"
   },
   "source": [
    "### **Normal Distribution** "
   ]
  },
  {
   "cell_type": "code",
   "execution_count": 9,
   "metadata": {
    "id": "EKsamZUcRdw1"
   },
   "outputs": [],
   "source": [
    "\"\"\"\n",
    "To create an inert active plot for the probability and cumulative density function of the normal distribution we use the Plotly package. \n",
    "\"\"\"\n",
    "import numpy as np\n",
    "import matplotlib.pyplot as plt\n",
    "import scipy.stats as stats\n",
    "import plotly.express as px\n",
    "from ipywidgets import interact, interactive, fixed, interact_manual\n",
    "\n",
    "# Set up figure size of plot \n",
    "plt.rcParams['figure.figsize'] = (10,8) # length and width \n",
    "plt.rcParams['figure.dpi'] = 120 # general box size\n"
   ]
  },
  {
   "cell_type": "code",
   "execution_count": 10,
   "metadata": {
    "colab": {
     "base_uri": "https://localhost:8080/",
     "height": 960,
     "referenced_widgets": [
      "02f32104506a437aade323359e1c3b63",
      "3ed01e7f763b48daa9927b24c29c5311",
      "af071d7acf5a410f8979a117360c6fb9",
      "b624a7dc1d31492c8c6fced059a64598",
      "6d4e13c1a9b04a4d8cec35bd9544194c",
      "c2c24c1af7504d0dadccc324e3e1e5b3",
      "e744d7c288024fa5b5b35bfeabc7a1ef",
      "d86152f69f084a60813dc8de4e24e919",
      "757dfcb3bb144ae596370ccb450566f6",
      "a8146da8f6c64a9d8ec3c05776cc672f",
      "309f7711531440b49872d735efb2f9f2",
      "bba2aaa95d9c48d48e4b8e2ef2569987",
      "00c0372d02b543c982d9669ad80874cb"
     ]
    },
    "id": "86DhMYkyRlmW",
    "outputId": "d6423a84-1ada-4d12-81b4-9992c13c8dc8"
   },
   "outputs": [
    {
     "data": {
      "application/vnd.jupyter.widget-view+json": {
       "model_id": "6ef2b8664a2e4fca99ab115603b10e0f",
       "version_major": 2,
       "version_minor": 0
      },
      "text/plain": [
       "interactive(children=(IntSlider(value=0, description='mu', max=10, min=-10), FloatSlider(value=2.5, descriptio…"
      ]
     },
     "metadata": {},
     "output_type": "display_data"
    },
    {
     "data": {
      "text/plain": [
       "<Figure size 640x480 with 0 Axes>"
      ]
     },
     "metadata": {},
     "output_type": "display_data"
    }
   ],
   "source": [
    "\"\"\"\n",
    "We define the general environment of our plot: size, colour and style. \n",
    "\"\"\"\n",
    "\n",
    "# Plot the cdf and pdf in one figure\n",
    "def f(mu,sigma, colour):\n",
    "\n",
    "  fig = plt.figure(figsize=(10, 8))\n",
    "\n",
    "  fig.subplots_adjust( hspace = 0.3)\n",
    "  fig.patch.set_facecolor('#eeefef')\n",
    "  plt.style.use('classic')\n",
    "\n",
    "  # upper plot: pdf\n",
    "  plt.subplot(2, 1, 1)  # (rows, columns, which one)\n",
    "  x_axis = np.linspace(mu - 3*sigma, mu + 3*sigma, 1000)\n",
    "  plt.plot(x_axis, stats.norm.pdf(x_axis, mu, sigma), c= colour, linewidth= 2)\n",
    "  plt.xlabel('X')\n",
    "  plt.ylabel('pdf')\n",
    "  plt.ylim(0,1)\n",
    "  plt.xlim(-10,10)\n",
    "  plt.title(f'Probability Density Function pdf for $\\mu= {mu}$ and $\\sigma= {round(sigma,2)}$', fontweight=\"bold\")\n",
    "  # lower plot: cdf\n",
    "  plt.subplot(2, 1, 2)\n",
    "  plt.plot(x_axis, stats.norm.cdf(x_axis, mu, sigma), c= colour, linewidth= 2)\n",
    "  plt.xlabel('X')\n",
    "  plt.ylabel('cdf') \n",
    "  plt.ylim(0,1)\n",
    "  plt.xlim(-10,10)\n",
    "  plt.title(f'Cumulative Density Function cdf for $\\mu= {mu}$ and $\\sigma= {round(sigma,2)}$', fontweight=\"bold\")\n",
    "\n",
    "colours = ['red', 'green', 'blue']\n",
    "interact(f, mu=(-10, 10,1), sigma=(0.5, 5, 0.5), colour = colours)\n",
    "plt.savefig(\"filename.png\", transparent=True)\n",
    "\n"
   ]
  },
  {
   "cell_type": "markdown",
   "metadata": {
    "id": "VlEdHIEuTWmU"
   },
   "source": [
    "### **Kernel Density Estimation**  "
   ]
  },
  {
   "cell_type": "code",
   "execution_count": 11,
   "metadata": {
    "id": "bxDdrgIWTgRg"
   },
   "outputs": [],
   "source": [
    "import numpy as np\n",
    "import matplotlib.pyplot as plt\n",
    "from scipy.stats import norm\n",
    "from sklearn.neighbors import KernelDensity\n",
    "\n",
    "# Code reference: http://scikit-learn.org/stable/auto_examples/neighbors/plot_kde_1d.html\n",
    "\n",
    "# Set up figure size of plot \n",
    "plt.rcParams['figure.figsize'] = (10,8) # length and width \n",
    "plt.rcParams['figure.dpi'] = 120 # general box size\n",
    "\n",
    "N = 2000\n",
    "np.random.seed(1)\n",
    "# Create 2 normal distributed data set\n",
    "lambda_ = 0.3 # convex combination parameter\n",
    "norm_data_1 = np.random.normal(0, 1, int(lambda_ * N))\n",
    "norm_data_2 = np.random.normal(5, 1, int((1-lambda_) * N))\n",
    "norm_data = np.concatenate((norm_data_1, norm_data_2))\n",
    "\n",
    "# Create x axis range\n",
    "X_plot = np.linspace(-5, 10, 1000)\n",
    "# Create linear combination of 2 normal distributed random variable\n",
    "norm_linear = (lambda_ * norm(0, 1).pdf(X_plot) + (1-lambda_) * norm(5, 1).pdf(X_plot))"
   ]
  },
  {
   "cell_type": "code",
   "execution_count": 12,
   "metadata": {
    "colab": {
     "base_uri": "https://localhost:8080/",
     "height": 843
    },
    "id": "Q8lyjdshThwx",
    "outputId": "7bf40af7-fda2-4c54-86f2-6210b1b4697b"
   },
   "outputs": [
    {
     "data": {
      "image/png": "[encoded data removed]",
      "text/plain": [
       "<Figure size 1200x960 with 1 Axes>"
      ]
     },
     "metadata": {},
     "output_type": "display_data"
    }
   ],
   "source": [
    "fig, ax = plt.subplots()\n",
    "\n",
    "# Plot the real distribution\n",
    "ax.fill(X_plot, norm_linear, fc='black', alpha=0.2, label='convex combination')\n",
    "\n",
    "# Use 3 different kernels to estimate\n",
    "for kernel in ['gaussian', 'tophat', 'epanechnikov']:\n",
    "\n",
    "    # Initial an object to use kernel function to fit data, bandwidth will    affect the result\n",
    "    kde = KernelDensity(kernel=kernel, bandwidth=0.5).fit(norm_data.reshape(-1, 1))\n",
    "\n",
    "    # Evaluate the density model on the data\n",
    "    log_dens = kde.score_samples(X_plot.reshape(-1, 1))\n",
    "    ax.plot(X_plot, np.exp(log_dens), '-', label=\"'{0}'\".format(kernel))\n",
    "\n",
    "# Add text on the plot, position argument can be arbitrary\n",
    "# ax.text(6, 0.38, \"N={0} points\".format(N))\n",
    "# Add a legend to the left outside of the plot \n",
    "# ax.legend(loc='upper left', bbox_to_anchor = (1,0.5))\n",
    "# Plot the random points, squeeze them into narrow space\n",
    "ax.plot(norm_data, -0.005 - 0.01 * np.random.random(norm_data.shape[0]), '+k')\n",
    "# Set x-axis y-axis limit to adjust the figure\n",
    "ax.set_xlim(-4, 9)\n",
    "ax.set_ylim(-0.03, 0.4)\n",
    "fig.savefig('kernel_estimation.png', dpi=300, transparent = True, bbox_inches='tight')\n",
    "plt.show()"
   ]
  },
  {
   "cell_type": "markdown",
   "metadata": {
    "id": "xzEz67p9V5wC"
   },
   "source": [
    "### **Box-Muller Method on 2-dim normal distribution**  "
   ]
  },
  {
   "cell_type": "code",
   "execution_count": 19,
   "metadata": {
    "colab": {
     "base_uri": "https://localhost:8080/",
     "height": 748
    },
    "id": "vI-JczohV6r3",
    "outputId": "1dbe7797-03dc-4116-9a78-f5aabf34df5c"
   },
   "outputs": [
    {
     "data": {
      "image/png": "[encoded data removed]",
      "text/plain": [
       "<Figure size 840x840 with 1 Axes>"
      ]
     },
     "metadata": {},
     "output_type": "display_data"
    }
   ],
   "source": [
    "import numpy as np\n",
    "import matplotlib.pyplot as plt\n",
    "np.random.seed(100) \n",
    "# For mu = (0,0), covariance matrix Sigma = identity matrix\n",
    "n = 500  # Number of random numbers\n",
    "msize = 0.1  # determines the size of the plotted points\n",
    "# a good size might be msize=5 for n=500 pts and msize=0.1 for n>50K  \n",
    "x = -np.log( np.random.uniform(low=0, high=1, size=n )) # creates an Exp(1) rv’s\n",
    "a = np.sqrt( 2*x )\n",
    "phi = np.random.uniform(low=0, high=2 * np.pi, size=n)\n",
    "# Change to cartesian coordinates\n",
    "x = a * np.cos(phi)\n",
    "y = a * np.sin(phi)\n",
    "plt.figure(figsize=(7, 7))\n",
    "plt.scatter(x, y,color = 'r')\n",
    "plt.savefig('2dimnormal.png', dpi = 300, transparent = True)"
   ]
  },
  {
   "cell_type": "code",
   "execution_count": 21,
   "metadata": {
    "colab": {
     "base_uri": "https://localhost:8080/",
     "height": 476
    },
    "id": "okp2rWP4WRfG",
    "outputId": "3f606f13-80fc-4eb5-f20a-5e8d4a7fe6c9"
   },
   "outputs": [
    {
     "data": {
      "text/plain": [
       "[<matplotlib.lines.Line2D at 0x7fcd82b447f0>]"
      ]
     },
     "execution_count": 21,
     "metadata": {},
     "output_type": "execute_result"
    },
    {
     "data": {
      "image/png": "[encoded data removed]",
      "text/plain": [
       "<Figure size 720x480 with 1 Axes>"
      ]
     },
     "metadata": {},
     "output_type": "display_data"
    }
   ],
   "source": [
    "# Calculate sqrt(A) with Jordan decomposition\n",
    "A = [[3, 1], [1, 1]]\n",
    "A_eig = np.linalg.eig(A)\n",
    "E_val = A_eig[0]\n",
    "Gamma = A_eig[1]\n",
    "Lambda = np.diag(E_val)\n",
    "np.sqrt(Lambda)\n",
    "Lambda12 = np.sqrt(Lambda)\n",
    "A12 = np.dot(np.dot(Gamma, Lambda12), np.transpose(Gamma))\n",
    "# Solve with matrix multiplication\n",
    "c = [x, y]\n",
    "tfxy = np.dot(A12, c)\n",
    "plt.figure(2, figsize=(6, 4))\n",
    "plt.plot(tfxy[0], tfxy[1], 'ro', markersize=msize)"
   ]
  },
  {
   "cell_type": "code",
   "execution_count": null,
   "metadata": {},
   "outputs": [],
   "source": []
  }
 ],
 "metadata": {
  "colab": {
   "collapsed_sections": [
    "PUIbv9Hxrm99",
    "j8hCKj1uQXdi",
    "42JRU6JyQc3U",
    "gqsA65R7QyFQ",
    "-YBdII0ORIkC"
   ],
   "name": "DEDA5.ipynb",
   "provenance": []
  },
  "kernelspec": {
   "display_name": "Python 3",
   "language": "python",
   "name": "python3"
  },
  "language_info": {
   "codemirror_mode": {
    "name": "ipython",
    "version": 3
   },
   "file_extension": ".py",
   "mimetype": "text/x-python",
   "name": "python",
   "nbconvert_exporter": "python",
   "pygments_lexer": "ipython3",
   "version": "3.12.3"
  },
  "widgets": {
   "application/vnd.jupyter.widget-state+json": {
    "00c0372d02b543c982d9669ad80874cb": {
     "model_module": "@jupyter-widgets/base",
     "model_module_version": "1.2.0",
     "model_name": "LayoutModel",
     "state": {
      "_model_module": "@jupyter-widgets/base",
      "_model_module_version": "1.2.0",
      "_model_name": "LayoutModel",
      "_view_count": null,
      "_view_module": "@jupyter-widgets/base",
      "_view_module_version": "1.2.0",
      "_view_name": "LayoutView",
      "align_content": null,
      "align_items": null,
      "align_self": null,
      "border": null,
      "bottom": null,
      "display": null,
      "flex": null,
      "flex_flow": null,
      "grid_area": null,
      "grid_auto_columns": null,
      "grid_auto_flow": null,
      "grid_auto_rows": null,
      "grid_column": null,
      "grid_gap": null,
      "grid_row": null,
      "grid_template_areas": null,
      "grid_template_columns": null,
      "grid_template_rows": null,
      "height": null,
      "justify_content": null,
      "justify_items": null,
      "left": null,
      "margin": null,
      "max_height": null,
      "max_width": null,
      "min_height": null,
      "min_width": null,
      "object_fit": null,
      "object_position": null,
      "order": null,
      "overflow": null,
      "overflow_x": null,
      "overflow_y": null,
      "padding": null,
      "right": null,
      "top": null,
      "visibility": null,
      "width": null
     }
    },
    "02f32104506a437aade323359e1c3b63": {
     "model_module": "@jupyter-widgets/controls",
     "model_module_version": "1.5.0",
     "model_name": "VBoxModel",
     "state": {
      "_dom_classes": [
       "widget-interact"
      ],
      "_model_module": "@jupyter-widgets/controls",
      "_model_module_version": "1.5.0",
      "_model_name": "VBoxModel",
      "_view_count": null,
      "_view_module": "@jupyter-widgets/controls",
      "_view_module_version": "1.5.0",
      "_view_name": "VBoxView",
      "box_style": "",
      "children": [
       "IPY_MODEL_af071d7acf5a410f8979a117360c6fb9",
       "IPY_MODEL_b624a7dc1d31492c8c6fced059a64598",
       "IPY_MODEL_6d4e13c1a9b04a4d8cec35bd9544194c",
       "IPY_MODEL_c2c24c1af7504d0dadccc324e3e1e5b3"
      ],
      "layout": "IPY_MODEL_3ed01e7f763b48daa9927b24c29c5311"
     }
    },
    "309f7711531440b49872d735efb2f9f2": {
     "model_module": "@jupyter-widgets/controls",
     "model_module_version": "1.5.0",
     "model_name": "DescriptionStyleModel",
     "state": {
      "_model_module": "@jupyter-widgets/controls",
      "_model_module_version": "1.5.0",
      "_model_name": "DescriptionStyleModel",
      "_view_count": null,
      "_view_module": "@jupyter-widgets/base",
      "_view_module_version": "1.2.0",
      "_view_name": "StyleView",
      "description_width": ""
     }
    },
    "3ed01e7f763b48daa9927b24c29c5311": {
     "model_module": "@jupyter-widgets/base",
     "model_module_version": "1.2.0",
     "model_name": "LayoutModel",
     "state": {
      "_model_module": "@jupyter-widgets/base",
      "_model_module_version": "1.2.0",
      "_model_name": "LayoutModel",
      "_view_count": null,
      "_view_module": "@jupyter-widgets/base",
      "_view_module_version": "1.2.0",
      "_view_name": "LayoutView",
      "align_content": null,
      "align_items": null,
      "align_self": null,
      "border": null,
      "bottom": null,
      "display": null,
      "flex": null,
      "flex_flow": null,
      "grid_area": null,
      "grid_auto_columns": null,
      "grid_auto_flow": null,
      "grid_auto_rows": null,
      "grid_column": null,
      "grid_gap": null,
      "grid_row": null,
      "grid_template_areas": null,
      "grid_template_columns": null,
      "grid_template_rows": null,
      "height": null,
      "justify_content": null,
      "justify_items": null,
      "left": null,
      "margin": null,
      "max_height": null,
      "max_width": null,
      "min_height": null,
      "min_width": null,
      "object_fit": null,
      "object_position": null,
      "order": null,
      "overflow": null,
      "overflow_x": null,
      "overflow_y": null,
      "padding": null,
      "right": null,
      "top": null,
      "visibility": null,
      "width": null
     }
    },
    "6d4e13c1a9b04a4d8cec35bd9544194c": {
     "model_module": "@jupyter-widgets/controls",
     "model_module_version": "1.5.0",
     "model_name": "DropdownModel",
     "state": {
      "_dom_classes": [],
      "_model_module": "@jupyter-widgets/controls",
      "_model_module_version": "1.5.0",
      "_model_name": "DropdownModel",
      "_options_labels": [
       "red",
       "green",
       "blue"
      ],
      "_view_count": null,
      "_view_module": "@jupyter-widgets/controls",
      "_view_module_version": "1.5.0",
      "_view_name": "DropdownView",
      "description": "colour",
      "description_tooltip": null,
      "disabled": false,
      "index": 0,
      "layout": "IPY_MODEL_bba2aaa95d9c48d48e4b8e2ef2569987",
      "style": "IPY_MODEL_309f7711531440b49872d735efb2f9f2"
     }
    },
    "757dfcb3bb144ae596370ccb450566f6": {
     "model_module": "@jupyter-widgets/controls",
     "model_module_version": "1.5.0",
     "model_name": "SliderStyleModel",
     "state": {
      "_model_module": "@jupyter-widgets/controls",
      "_model_module_version": "1.5.0",
      "_model_name": "SliderStyleModel",
      "_view_count": null,
      "_view_module": "@jupyter-widgets/base",
      "_view_module_version": "1.2.0",
      "_view_name": "StyleView",
      "description_width": "",
      "handle_color": null
     }
    },
    "a8146da8f6c64a9d8ec3c05776cc672f": {
     "model_module": "@jupyter-widgets/base",
     "model_module_version": "1.2.0",
     "model_name": "LayoutModel",
     "state": {
      "_model_module": "@jupyter-widgets/base",
      "_model_module_version": "1.2.0",
      "_model_name": "LayoutModel",
      "_view_count": null,
      "_view_module": "@jupyter-widgets/base",
      "_view_module_version": "1.2.0",
      "_view_name": "LayoutView",
      "align_content": null,
      "align_items": null,
      "align_self": null,
      "border": null,
      "bottom": null,
      "display": null,
      "flex": null,
      "flex_flow": null,
      "grid_area": null,
      "grid_auto_columns": null,
      "grid_auto_flow": null,
      "grid_auto_rows": null,
      "grid_column": null,
      "grid_gap": null,
      "grid_row": null,
      "grid_template_areas": null,
      "grid_template_columns": null,
      "grid_template_rows": null,
      "height": null,
      "justify_content": null,
      "justify_items": null,
      "left": null,
      "margin": null,
      "max_height": null,
      "max_width": null,
      "min_height": null,
      "min_width": null,
      "object_fit": null,
      "object_position": null,
      "order": null,
      "overflow": null,
      "overflow_x": null,
      "overflow_y": null,
      "padding": null,
      "right": null,
      "top": null,
      "visibility": null,
      "width": null
     }
    },
    "af071d7acf5a410f8979a117360c6fb9": {
     "model_module": "@jupyter-widgets/controls",
     "model_module_version": "1.5.0",
     "model_name": "IntSliderModel",
     "state": {
      "_dom_classes": [],
      "_model_module": "@jupyter-widgets/controls",
      "_model_module_version": "1.5.0",
      "_model_name": "IntSliderModel",
      "_view_count": null,
      "_view_module": "@jupyter-widgets/controls",
      "_view_module_version": "1.5.0",
      "_view_name": "IntSliderView",
      "continuous_update": true,
      "description": "mu",
      "description_tooltip": null,
      "disabled": false,
      "layout": "IPY_MODEL_d86152f69f084a60813dc8de4e24e919",
      "max": 10,
      "min": -10,
      "orientation": "horizontal",
      "readout": true,
      "readout_format": "d",
      "step": 1,
      "style": "IPY_MODEL_e744d7c288024fa5b5b35bfeabc7a1ef",
      "value": 0
     }
    },
    "b624a7dc1d31492c8c6fced059a64598": {
     "model_module": "@jupyter-widgets/controls",
     "model_module_version": "1.5.0",
     "model_name": "FloatSliderModel",
     "state": {
      "_dom_classes": [],
      "_model_module": "@jupyter-widgets/controls",
      "_model_module_version": "1.5.0",
      "_model_name": "FloatSliderModel",
      "_view_count": null,
      "_view_module": "@jupyter-widgets/controls",
      "_view_module_version": "1.5.0",
      "_view_name": "FloatSliderView",
      "continuous_update": true,
      "description": "sigma",
      "description_tooltip": null,
      "disabled": false,
      "layout": "IPY_MODEL_a8146da8f6c64a9d8ec3c05776cc672f",
      "max": 5,
      "min": 0.5,
      "orientation": "horizontal",
      "readout": true,
      "readout_format": ".2f",
      "step": 0.5,
      "style": "IPY_MODEL_757dfcb3bb144ae596370ccb450566f6",
      "value": 2.5
     }
    },
    "bba2aaa95d9c48d48e4b8e2ef2569987": {
     "model_module": "@jupyter-widgets/base",
     "model_module_version": "1.2.0",
     "model_name": "LayoutModel",
     "state": {
      "_model_module": "@jupyter-widgets/base",
      "_model_module_version": "1.2.0",
      "_model_name": "LayoutModel",
      "_view_count": null,
      "_view_module": "@jupyter-widgets/base",
      "_view_module_version": "1.2.0",
      "_view_name": "LayoutView",
      "align_content": null,
      "align_items": null,
      "align_self": null,
      "border": null,
      "bottom": null,
      "display": null,
      "flex": null,
      "flex_flow": null,
      "grid_area": null,
      "grid_auto_columns": null,
      "grid_auto_flow": null,
      "grid_auto_rows": null,
      "grid_column": null,
      "grid_gap": null,
      "grid_row": null,
      "grid_template_areas": null,
      "grid_template_columns": null,
      "grid_template_rows": null,
      "height": null,
      "justify_content": null,
      "justify_items": null,
      "left": null,
      "margin": null,
      "max_height": null,
      "max_width": null,
      "min_height": null,
      "min_width": null,
      "object_fit": null,
      "object_position": null,
      "order": null,
      "overflow": null,
      "overflow_x": null,
      "overflow_y": null,
      "padding": null,
      "right": null,
      "top": null,
      "visibility": null,
      "width": null
     }
    },
    "c2c24c1af7504d0dadccc324e3e1e5b3": {
     "model_module": "@jupyter-widgets/output",
     "model_module_version": "1.0.0",
     "model_name": "OutputModel",
     "state": {
      "_dom_classes": [],
      "_model_module": "@jupyter-widgets/output",
      "_model_module_version": "1.0.0",
      "_model_name": "OutputModel",
      "_view_count": null,
      "_view_module": "@jupyter-widgets/output",
      "_view_module_version": "1.0.0",
      "_view_name": "OutputView",
      "layout": "IPY_MODEL_00c0372d02b543c982d9669ad80874cb",
      "msg_id": "",
      "outputs": [
       {
        "data": {
         "image/png": "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\n",
         "text/plain": "<Figure size 1200x960 with 2 Axes>"
        },
        "metadata": {},
        "output_type": "display_data"
       }
      ]
     }
    },
    "d86152f69f084a60813dc8de4e24e919": {
     "model_module": "@jupyter-widgets/base",
     "model_module_version": "1.2.0",
     "model_name": "LayoutModel",
     "state": {
      "_model_module": "@jupyter-widgets/base",
      "_model_module_version": "1.2.0",
      "_model_name": "LayoutModel",
      "_view_count": null,
      "_view_module": "@jupyter-widgets/base",
      "_view_module_version": "1.2.0",
      "_view_name": "LayoutView",
      "align_content": null,
      "align_items": null,
      "align_self": null,
      "border": null,
      "bottom": null,
      "display": null,
      "flex": null,
      "flex_flow": null,
      "grid_area": null,
      "grid_auto_columns": null,
      "grid_auto_flow": null,
      "grid_auto_rows": null,
      "grid_column": null,
      "grid_gap": null,
      "grid_row": null,
      "grid_template_areas": null,
      "grid_template_columns": null,
      "grid_template_rows": null,
      "height": null,
      "justify_content": null,
      "justify_items": null,
      "left": null,
      "margin": null,
      "max_height": null,
      "max_width": null,
      "min_height": null,
      "min_width": null,
      "object_fit": null,
      "object_position": null,
      "order": null,
      "overflow": null,
      "overflow_x": null,
      "overflow_y": null,
      "padding": null,
      "right": null,
      "top": null,
      "visibility": null,
      "width": null
     }
    },
    "e744d7c288024fa5b5b35bfeabc7a1ef": {
     "model_module": "@jupyter-widgets/controls",
     "model_module_version": "1.5.0",
     "model_name": "SliderStyleModel",
     "state": {
      "_model_module": "@jupyter-widgets/controls",
      "_model_module_version": "1.5.0",
      "_model_name": "SliderStyleModel",
      "_view_count": null,
      "_view_module": "@jupyter-widgets/base",
      "_view_module_version": "1.2.0",
      "_view_name": "StyleView",
      "description_width": "",
      "handle_color": null
     }
    }
   }
  }
 },
 "nbformat": 4,
 "nbformat_minor": 1
}
