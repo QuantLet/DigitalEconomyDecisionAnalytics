{
 "cells": [
  {
   "cell_type": "code",
   "execution_count": 7,
   "id": "a7b1124c-8dbd-49bd-828a-07d328053a74",
   "metadata": {},
   "outputs": [
    {
     "name": "stderr",
     "output_type": "stream",
     "text": [
      "/var/folders/pk/w362hnw57h55kkbscbkq_q780000gn/T/ipykernel_15304/4013486455.py:11: DeprecationWarning: The binary mode of fromstring is deprecated, as it behaves surprisingly on unicode inputs. Use frombuffer instead\n",
      "  image_int=np.fromstring(image_before.tobytes(), dtype=np.int8)\n"
     ]
    }
   ],
   "source": [
    "\n",
    "\"\"\"\n",
    "Fourier Transformation\n",
    "\"\"\"\n",
    "from PIL import Image\n",
    "from numpy.fft import fft,ifft\n",
    "import numpy as np\n",
    "# Open the image by using Python Imaging Library(PIL)\n",
    "image_before=Image.open('20250827 Sunshine_IMG_9195.jpg')\n",
    "\n",
    "# Decoding and encoding image to float number\n",
    "image_int=np.fromstring(image_before.tobytes(), dtype=np.int8)\n",
    "# Processing Fourier transform\n",
    "fft_transformed=fft(image_int)\n",
    "# Filter the lower frequency, i.e. employ a high pass\n",
    "cutoffpoint = 1e6\n",
    "fft_transformed=np.where(np.absolute(fft_transformed) < cutoffpoint, 0, fft_transformed)\n",
    "# Inverse Fourier transform\n",
    "fft_transformed=ifft(fft_transformed)\n",
    "# Keep the real part\n",
    "fft_transformed=np.int8(np.real(fft_transformed))\n",
    "# Output the image\n",
    "image_output=Image.frombytes(image_before.mode, image_before.size, fft_transformed)\n",
    "image_output.show()\n"
   ]
  },
  {
   "cell_type": "code",
   "execution_count": null,
   "id": "233ab604-56c6-4931-a09e-2f46ccca3e6a",
   "metadata": {},
   "outputs": [],
   "source": []
  },
  {
   "cell_type": "code",
   "execution_count": null,
   "id": "94439640-d702-42e0-ae20-9b491d3a1761",
   "metadata": {},
   "outputs": [],
   "source": []
  }
 ],
 "metadata": {
  "kernelspec": {
   "display_name": "Python [conda env:base] *",
   "language": "python",
   "name": "conda-base-py"
  },
  "language_info": {
   "codemirror_mode": {
    "name": "ipython",
    "version": 3
   },
   "file_extension": ".py",
   "mimetype": "text/x-python",
   "name": "python",
   "nbconvert_exporter": "python",
   "pygments_lexer": "ipython3",
   "version": "3.13.5"
  }
 },
 "nbformat": 4,
 "nbformat_minor": 5
}
