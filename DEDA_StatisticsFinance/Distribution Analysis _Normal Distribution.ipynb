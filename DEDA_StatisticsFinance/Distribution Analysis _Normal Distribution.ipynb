{
 "cells": [
  {
   "cell_type": "code",
   "execution_count": 2,
   "id": "26a91b0f",
   "metadata": {},
   "outputs": [],
   "source": [
    "\"\"\"\n",
    "To create an inert active plot for the probability and cumulative density function of the normal distribution we use the Plotly package. \n",
    "\"\"\"\n",
    "import numpy as np\n",
    "import matplotlib.pyplot as plt\n",
    "import scipy.stats as stats\n",
    "import plotly.express as px\n",
    "from ipywidgets import interact, interactive, fixed, interact_manual\n",
    "\n",
    "# Set up figure size of plot \n",
    "plt.rcParams['figure.figsize'] = (10,8) # length and width \n",
    "plt.rcParams['figure.dpi'] = 120 # general box size\n"
   ]
  },
  {
   "cell_type": "code",
   "execution_count": 3,
   "id": "fc2130e0",
   "metadata": {},
   "outputs": [
    {
     "name": "stderr",
     "output_type": "stream",
     "text": [
      "<>:22: SyntaxWarning: invalid escape sequence '\\m'\n",
      "<>:22: SyntaxWarning: invalid escape sequence '\\s'\n",
      "<>:30: SyntaxWarning: invalid escape sequence '\\m'\n",
      "<>:30: SyntaxWarning: invalid escape sequence '\\s'\n",
      "<>:22: SyntaxWarning: invalid escape sequence '\\m'\n",
      "<>:22: SyntaxWarning: invalid escape sequence '\\s'\n",
      "<>:30: SyntaxWarning: invalid escape sequence '\\m'\n",
      "<>:30: SyntaxWarning: invalid escape sequence '\\s'\n",
      "/var/folders/5r/3zb78l7x2cb8py_g4z_s_c040000gn/T/ipykernel_28989/3436457414.py:22: SyntaxWarning: invalid escape sequence '\\m'\n",
      "  plt.title(f'Probability Density Function pdf for $\\mu= {mu}$ and $\\sigma= {round(sigma,2)}$', fontweight=\"bold\")\n",
      "/var/folders/5r/3zb78l7x2cb8py_g4z_s_c040000gn/T/ipykernel_28989/3436457414.py:22: SyntaxWarning: invalid escape sequence '\\s'\n",
      "  plt.title(f'Probability Density Function pdf for $\\mu= {mu}$ and $\\sigma= {round(sigma,2)}$', fontweight=\"bold\")\n",
      "/var/folders/5r/3zb78l7x2cb8py_g4z_s_c040000gn/T/ipykernel_28989/3436457414.py:30: SyntaxWarning: invalid escape sequence '\\m'\n",
      "  plt.title(f'Cumulative Density Function cdf for $\\mu= {mu}$ and $\\sigma= {round(sigma,2)}$', fontweight=\"bold\")\n",
      "/var/folders/5r/3zb78l7x2cb8py_g4z_s_c040000gn/T/ipykernel_28989/3436457414.py:30: SyntaxWarning: invalid escape sequence '\\s'\n",
      "  plt.title(f'Cumulative Density Function cdf for $\\mu= {mu}$ and $\\sigma= {round(sigma,2)}$', fontweight=\"bold\")\n"
     ]
    },
    {
     "data": {
      "application/vnd.jupyter.widget-view+json": {
       "model_id": "868b6c0c12dc49cb8671d542170677b3",
       "version_major": 2,
       "version_minor": 0
      },
      "text/plain": [
       "interactive(children=(IntSlider(value=0, description='mu', max=10, min=-10), FloatSlider(value=2.5, descriptio…"
      ]
     },
     "metadata": {},
     "output_type": "display_data"
    },
    {
     "data": {
      "text/plain": [
       "<Figure size 640x480 with 0 Axes>"
      ]
     },
     "metadata": {},
     "output_type": "display_data"
    }
   ],
   "source": [
    "\"\"\"\n",
    "We define the general environment of our plot: size, colour and style. \n",
    "\"\"\"\n",
    "\n",
    "# Plot the cdf and pdf in one figure\n",
    "def f(mu,sigma, colour):\n",
    "\n",
    "  fig = plt.figure(figsize=(10, 8))\n",
    "\n",
    "  fig.subplots_adjust( hspace = 0.3)\n",
    "  fig.patch.set_facecolor('#eeefef')\n",
    "  plt.style.use('classic')\n",
    "\n",
    "  # upper plot: pdf\n",
    "  plt.subplot(2, 1, 1)  # (rows, columns, which one)\n",
    "  x_axis = np.linspace(mu - 3*sigma, mu + 3*sigma, 1000)\n",
    "  plt.plot(x_axis, stats.norm.pdf(x_axis, mu, sigma), c= colour, linewidth= 2)\n",
    "  plt.xlabel('X')\n",
    "  plt.ylabel('pdf')\n",
    "  plt.ylim(0,1)\n",
    "  plt.xlim(-10,10)\n",
    "  plt.title(f'Probability Density Function pdf for $\\mu= {mu}$ and $\\sigma= {round(sigma,2)}$', fontweight=\"bold\")\n",
    "  # lower plot: cdf\n",
    "  plt.subplot(2, 1, 2)\n",
    "  plt.plot(x_axis, stats.norm.cdf(x_axis, mu, sigma), c= colour, linewidth= 2)\n",
    "  plt.xlabel('X')\n",
    "  plt.ylabel('cdf') \n",
    "  plt.ylim(0,1)\n",
    "  plt.xlim(-10,10)\n",
    "  plt.title(f'Cumulative Density Function cdf for $\\mu= {mu}$ and $\\sigma= {round(sigma,2)}$', fontweight=\"bold\")\n",
    "\n",
    "colours = ['red', 'green', 'blue']\n",
    "interact(f, mu=(-10, 10,1), sigma=(0.5, 5, 0.5), colour = colours)\n",
    "plt.savefig(\"filename.png\", transparent=True)\n",
    "\n"
   ]
  }
 ],
 "metadata": {
  "kernelspec": {
   "display_name": "Python 3",
   "language": "python",
   "name": "python3"
  },
  "language_info": {
   "codemirror_mode": {
    "name": "ipython",
    "version": 3
   },
   "file_extension": ".py",
   "mimetype": "text/x-python",
   "name": "python",
   "nbconvert_exporter": "python",
   "pygments_lexer": "ipython3",
   "version": "3.12.3"
  }
 },
 "nbformat": 4,
 "nbformat_minor": 5
}
