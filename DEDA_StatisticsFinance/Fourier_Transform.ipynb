{
 "cells": [
  {
   "cell_type": "code",
   "execution_count": 1,
   "id": "cd398c87",
   "metadata": {},
   "outputs": [
    {
     "name": "stderr",
     "output_type": "stream",
     "text": [
      "/var/folders/5r/3zb78l7x2cb8py_g4z_s_c040000gn/T/ipykernel_28846/3046039656.py:8: DeprecationWarning: The binary mode of fromstring is deprecated, as it behaves surprisingly on unicode inputs. Use frombuffer instead\n",
      "  image_int=np.fromstring(image_before.tobytes(), dtype=np.int8)\n"
     ]
    }
   ],
   "source": [
    "from PIL import Image\n",
    "from numpy.fft import fft,ifft\n",
    "import numpy as np\n",
    "\n",
    "# Open the image by using Python Imaging Library(PIL)\n",
    "image_before=Image.open('berlin_view.jpg')\n",
    "# Decoding and encoding image to float number\n",
    "image_int=np.fromstring(image_before.tobytes(), dtype=np.int8)\n",
    "# Processing Fourier transform\n",
    "fft_transformed=fft(image_int)\n",
    "# Filter the lower frequency, i.e. employ a high pass\n",
    "fft_transformed=np.where(np.absolute(fft_transformed) < 9e4,0,fft_transformed)\n",
    "# Inverse Fourier transform\n",
    "fft_transformed=ifft(fft_transformed)\n",
    "# Keep the real part\n",
    "fft_transformed=np.int8(np.real(fft_transformed))\n",
    "# Output the image\n",
    "image_output=Image.frombytes(image_before.mode, image_before.size, fft_transformed)\n",
    "image_output.show()"
   ]
  }
 ],
 "metadata": {
  "kernelspec": {
   "display_name": "Python 3",
   "language": "python",
   "name": "python3"
  },
  "language_info": {
   "codemirror_mode": {
    "name": "ipython",
    "version": 3
   },
   "file_extension": ".py",
   "mimetype": "text/x-python",
   "name": "python",
   "nbconvert_exporter": "python",
   "pygments_lexer": "ipython3",
   "version": "3.12.3"
  }
 },
 "nbformat": 4,
 "nbformat_minor": 5
}
