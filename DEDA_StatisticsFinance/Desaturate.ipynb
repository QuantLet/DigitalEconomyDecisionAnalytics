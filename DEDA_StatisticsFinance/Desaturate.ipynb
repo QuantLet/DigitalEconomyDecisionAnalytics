{
 "cells": [
  {
   "cell_type": "code",
   "execution_count": null,
   "id": "0a81a3a8",
   "metadata": {},
   "outputs": [],
   "source": [
    "# Desaturate \"green\" hues in an image (turn them gray)\n",
    "# Hue range is on [0,1]: 0≈red, 0.33≈green, 0.66≈blue.\n",
    "\n",
    "import numpy as np\n",
    "from PIL import Image\n",
    "from matplotlib import colors\n",
    "\n",
    "# --- paths ---\n",
    "inp = \"20250827 Sunshine_IMG_9195.jpg\"   # change if needed\n",
    "out = \"greens_desaturated.png\"\n",
    "\n",
    "# --- load image as float RGB [0,1] ---\n",
    "img = np.asarray(Image.open(inp).convert(\"RGB\"), dtype=np.float32) / 255.0\n",
    "\n",
    "# --- RGB -> HSV ---\n",
    "hsv = colors.rgb_to_hsv(img)            # shape (H,W,3), values in [0,1]\n",
    "h, s, v = hsv[...,0], hsv[...,1], hsv[...,2]\n",
    "\n",
    "# --- select the green hue band and desaturate it ---\n",
    "hue_min, hue_max = 0.25, 0.45           # tweak to widen/narrow greens\n",
    "mask = (h >= hue_min) & (h <= hue_max)  # (wrap-around not needed for green)\n",
    "s[mask] = 0.0                           # desaturate selected hues (S=0)\n",
    "\n",
    "# --- HSV -> RGB and save ---\n",
    "out_rgb = colors.hsv_to_rgb(np.stack([h, s, v], axis=-1))\n",
    "out_rgb = np.clip(out_rgb, 0.0, 1.0)\n",
    "Image.fromarray((out_rgb * 255).astype(np.uint8)).save(out)\n",
    "print(\"Saved:\", out)"
   ]
  }
 ],
 "metadata": {
  "kernelspec": {
   "display_name": "base",
   "language": "python",
   "name": "python3"
  },
  "language_info": {
   "codemirror_mode": {
    "name": "ipython",
    "version": 3
   },
   "file_extension": ".py",
   "mimetype": "text/x-python",
   "name": "python",
   "nbconvert_exporter": "python",
   "pygments_lexer": "ipython3",
   "version": "3.11.7"
  }
 },
 "nbformat": 4,
 "nbformat_minor": 5
}
